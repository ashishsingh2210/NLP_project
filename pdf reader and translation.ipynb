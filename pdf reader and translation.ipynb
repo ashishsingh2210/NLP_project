{
 "cells": [
  {
   "cell_type": "raw",
   "id": "waiting-college",
   "metadata": {},
   "source": [
    "# working with pdf\n",
    "\n",
    "! pip install PyPDF2\n",
    "\n"
   ]
  },
  {
   "cell_type": "markdown",
   "id": "worse-jaguar",
   "metadata": {},
   "source": [
    "### importing the pdf libraries"
   ]
  },
  {
   "cell_type": "code",
   "execution_count": 4,
   "id": "whole-motivation",
   "metadata": {},
   "outputs": [],
   "source": [
    "import PyPDF2 as pdf\n"
   ]
  },
  {
   "cell_type": "code",
   "execution_count": 6,
   "id": "maritime-warrant",
   "metadata": {},
   "outputs": [],
   "source": [
    "file = open('geeta english.pdf','rb')"
   ]
  },
  {
   "cell_type": "code",
   "execution_count": 7,
   "id": "centered-morrison",
   "metadata": {},
   "outputs": [
    {
     "name": "stderr",
     "output_type": "stream",
     "text": [
      "PdfReadWarning: Xref table not zero-indexed. ID numbers for objects will be corrected. [pdf.py:1736]\n"
     ]
    }
   ],
   "source": [
    "pdf_reader = pdf.PdfFileReader(file)"
   ]
  },
  {
   "cell_type": "raw",
   "id": "black-offering",
   "metadata": {},
   "source": [
    "help(pdf_reader)\n"
   ]
  },
  {
   "cell_type": "code",
   "execution_count": 9,
   "id": "confident-london",
   "metadata": {},
   "outputs": [
    {
     "data": {
      "text/plain": [
       "True"
      ]
     },
     "execution_count": 9,
     "metadata": {},
     "output_type": "execute_result"
    }
   ],
   "source": [
    "pdf_reader.getIsEncrypted()\n"
   ]
  },
  {
   "cell_type": "code",
   "execution_count": 10,
   "id": "altered-poker",
   "metadata": {},
   "outputs": [
    {
     "data": {
      "text/plain": [
       "62"
      ]
     },
     "execution_count": 10,
     "metadata": {},
     "output_type": "execute_result"
    }
   ],
   "source": [
    "pdf_reader.getNumPages()\n"
   ]
  },
  {
   "cell_type": "code",
   "execution_count": 11,
   "id": "cheap-watson",
   "metadata": {},
   "outputs": [
    {
     "data": {
      "text/plain": [
       "{'/Type': '/Page',\n",
       " '/Parent': {'/Type': '/Pages',\n",
       "  '/Kids': [IndirectObject(297, 0),\n",
       "   IndirectObject(1, 0),\n",
       "   IndirectObject(4, 0),\n",
       "   IndirectObject(17, 0),\n",
       "   IndirectObject(23, 0),\n",
       "   IndirectObject(28, 0),\n",
       "   IndirectObject(31, 0),\n",
       "   IndirectObject(34, 0),\n",
       "   IndirectObject(37, 0)],\n",
       "  '/Count': 9,\n",
       "  '/Parent': {'/Type': '/Pages',\n",
       "   '/Kids': [IndirectObject(279, 0),\n",
       "    IndirectObject(281, 0),\n",
       "    IndirectObject(282, 0),\n",
       "    IndirectObject(283, 0)],\n",
       "   '/Count': 39,\n",
       "   '/Parent': {'/Type': '/Pages',\n",
       "    '/Kids': [IndirectObject(280, 0),\n",
       "     IndirectObject(285, 0),\n",
       "     IndirectObject(288, 0)],\n",
       "    '/Count': 62}}},\n",
       " '/Resources': {'/ProcSet': ['/PDF', '/Text'],\n",
       "  '/Font': {'/F1': {'/Type': '/Font',\n",
       "    '/Subtype': '/Type1',\n",
       "    '/FirstChar': 32,\n",
       "    '/LastChar': 169,\n",
       "    '/Widths': [259,\n",
       "     296,\n",
       "     259,\n",
       "     259,\n",
       "     259,\n",
       "     259,\n",
       "     833,\n",
       "     259,\n",
       "     315,\n",
       "     315,\n",
       "     259,\n",
       "     259,\n",
       "     259,\n",
       "     389,\n",
       "     259,\n",
       "     370,\n",
       "     519,\n",
       "     519,\n",
       "     519,\n",
       "     519,\n",
       "     519,\n",
       "     519,\n",
       "     519,\n",
       "     519,\n",
       "     519,\n",
       "     519,\n",
       "     259,\n",
       "     259,\n",
       "     259,\n",
       "     259,\n",
       "     259,\n",
       "     426,\n",
       "     259,\n",
       "     667,\n",
       "     648,\n",
       "     759,\n",
       "     833,\n",
       "     685,\n",
       "     611,\n",
       "     833,\n",
       "     870,\n",
       "     370,\n",
       "     370,\n",
       "     759,\n",
       "     685,\n",
       "     963,\n",
       "     870,\n",
       "     833,\n",
       "     630,\n",
       "     259,\n",
       "     704,\n",
       "     556,\n",
       "     778,\n",
       "     833,\n",
       "     741,\n",
       "     1093,\n",
       "     722,\n",
       "     667,\n",
       "     685,\n",
       "     315,\n",
       "     259,\n",
       "     315,\n",
       "     259,\n",
       "     259,\n",
       "     259,\n",
       "     444,\n",
       "     537,\n",
       "     444,\n",
       "     537,\n",
       "     463,\n",
       "     315,\n",
       "     519,\n",
       "     556,\n",
       "     278,\n",
       "     259,\n",
       "     500,\n",
       "     278,\n",
       "     833,\n",
       "     556,\n",
       "     537,\n",
       "     537,\n",
       "     537,\n",
       "     389,\n",
       "     370,\n",
       "     333,\n",
       "     537,\n",
       "     463,\n",
       "     704,\n",
       "     444,\n",
       "     481,\n",
       "     444,\n",
       "     259,\n",
       "     259,\n",
       "     259,\n",
       "     259,\n",
       "     259,\n",
       "     259,\n",
       "     259,\n",
       "     259,\n",
       "     259,\n",
       "     1000,\n",
       "     500,\n",
       "     259,\n",
       "     259,\n",
       "     259,\n",
       "     259,\n",
       "     259,\n",
       "     259,\n",
       "     259,\n",
       "     444,\n",
       "     444,\n",
       "     259,\n",
       "     259,\n",
       "     259,\n",
       "     259,\n",
       "     574,\n",
       "     574,\n",
       "     259,\n",
       "     259,\n",
       "     259,\n",
       "     259,\n",
       "     259,\n",
       "     259,\n",
       "     259,\n",
       "     259,\n",
       "     259,\n",
       "     259,\n",
       "     259,\n",
       "     259,\n",
       "     259,\n",
       "     259,\n",
       "     259,\n",
       "     259,\n",
       "     259,\n",
       "     259,\n",
       "     259,\n",
       "     259,\n",
       "     840],\n",
       "    '/Encoding': {'/Type': '/Encoding',\n",
       "     '/Differences': [32,\n",
       "      '/space',\n",
       "      '/exclam',\n",
       "      38,\n",
       "      '/ampersand',\n",
       "      40,\n",
       "      '/parenleft',\n",
       "      '/parenright',\n",
       "      44,\n",
       "      '/comma',\n",
       "      '/hyphen',\n",
       "      '/period',\n",
       "      '/slash',\n",
       "      '/zero',\n",
       "      '/one',\n",
       "      '/two',\n",
       "      '/three',\n",
       "      '/four',\n",
       "      '/five',\n",
       "      '/six',\n",
       "      '/seven',\n",
       "      '/eight',\n",
       "      '/nine',\n",
       "      '/colon',\n",
       "      '/semicolon',\n",
       "      63,\n",
       "      '/question',\n",
       "      65,\n",
       "      '/A',\n",
       "      '/B',\n",
       "      '/C',\n",
       "      '/D',\n",
       "      '/E',\n",
       "      '/F',\n",
       "      '/G',\n",
       "      '/H',\n",
       "      '/I',\n",
       "      '/J',\n",
       "      '/K',\n",
       "      '/L',\n",
       "      '/M',\n",
       "      '/N',\n",
       "      '/O',\n",
       "      '/P',\n",
       "      82,\n",
       "      '/R',\n",
       "      '/S',\n",
       "      '/T',\n",
       "      '/U',\n",
       "      '/V',\n",
       "      '/W',\n",
       "      '/X',\n",
       "      '/Y',\n",
       "      '/Z',\n",
       "      '/bracketleft',\n",
       "      93,\n",
       "      '/bracketright',\n",
       "      97,\n",
       "      '/a',\n",
       "      '/b',\n",
       "      '/c',\n",
       "      '/d',\n",
       "      '/e',\n",
       "      '/f',\n",
       "      '/g',\n",
       "      '/h',\n",
       "      '/i',\n",
       "      '/j',\n",
       "      '/k',\n",
       "      '/l',\n",
       "      '/m',\n",
       "      '/n',\n",
       "      '/o',\n",
       "      '/p',\n",
       "      '/q',\n",
       "      '/r',\n",
       "      '/s',\n",
       "      '/t',\n",
       "      '/u',\n",
       "      '/v',\n",
       "      '/w',\n",
       "      '/x',\n",
       "      '/y',\n",
       "      '/z',\n",
       "      132,\n",
       "      '/emdash',\n",
       "      '/endash',\n",
       "      141,\n",
       "      '/quotedblleft',\n",
       "      '/quotedblright',\n",
       "      '/quoteleft',\n",
       "      '/quoteright',\n",
       "      147,\n",
       "      '/fi',\n",
       "      '/fl',\n",
       "      169,\n",
       "      '/copyright']},\n",
       "    '/BaseFont': '/FKBNOO+JansonText-Roman',\n",
       "    '/FontDescriptor': {'/Type': '/FontDescriptor',\n",
       "     '/Ascent': 759,\n",
       "     '/CapHeight': 713,\n",
       "     '/Descent': -262,\n",
       "     '/Flags': 6,\n",
       "     '/FontBBox': [-159, -272, 1136, 981],\n",
       "     '/FontName': '/FKBNOO+JansonText-Roman',\n",
       "     '/ItalicAngle': 0,\n",
       "     '/StemV': 81,\n",
       "     '/XHeight': 433,\n",
       "     '/StemH': 81,\n",
       "     '/CharSet': '/T/h/e/B/a/g/v/d/space/G/i/t/s/f/O/r/n/l/S/k/A/E/o/L/M/F/Y/V/y/period/c/m/comma/P/x/five/six/nine/W/N/one/two/four/eight/hyphen/zero/U/C/p/copyright/seven/quotedblleft/u/quotedblright/b/q/I/slash/z/D/Z/three/ampersand/colon/emdash/parenleft/parenright/quoteright/fi/j/K/w/R/H/J/semicolon/fl/exclam/question/quoteleft/bracketleft/bracketright/endash/X',\n",
       "     '/FontFile3': {'/Filter': '/FlateDecode', '/Subtype': '/Type1C'}},\n",
       "    '/ToUnicode': {'/Filter': '/FlateDecode'}},\n",
       "   '/F3': {'/Type': '/Font',\n",
       "    '/Subtype': '/Type1',\n",
       "    '/FirstChar': 32,\n",
       "    '/LastChar': 150,\n",
       "    '/Widths': [278,\n",
       "     333,\n",
       "     500,\n",
       "     556,\n",
       "     556,\n",
       "     944,\n",
       "     870,\n",
       "     278,\n",
       "     352,\n",
       "     352,\n",
       "     426,\n",
       "     556,\n",
       "     278,\n",
       "     426,\n",
       "     278,\n",
       "     370,\n",
       "     556,\n",
       "     556,\n",
       "     556,\n",
       "     556,\n",
       "     556,\n",
       "     556,\n",
       "     556,\n",
       "     556,\n",
       "     556,\n",
       "     556,\n",
       "     278,\n",
       "     278,\n",
       "     556,\n",
       "     556,\n",
       "     556,\n",
       "     444,\n",
       "     800,\n",
       "     704,\n",
       "     704,\n",
       "     796,\n",
       "     852,\n",
       "     704,\n",
       "     630,\n",
       "     852,\n",
       "     889,\n",
       "     407,\n",
       "     407,\n",
       "     796,\n",
       "     685,\n",
       "     1000,\n",
       "     870,\n",
       "     870,\n",
       "     667,\n",
       "     870,\n",
       "     741,\n",
       "     574,\n",
       "     815,\n",
       "     833,\n",
       "     759,\n",
       "     1074,\n",
       "     759,\n",
       "     685,\n",
       "     741,\n",
       "     352,\n",
       "     556,\n",
       "     352,\n",
       "     556,\n",
       "     500,\n",
       "     278,\n",
       "     481,\n",
       "     574,\n",
       "     481,\n",
       "     574,\n",
       "     519,\n",
       "     333,\n",
       "     556,\n",
       "     593,\n",
       "     296,\n",
       "     296,\n",
       "     556,\n",
       "     296,\n",
       "     889,\n",
       "     593,\n",
       "     574,\n",
       "     574,\n",
       "     574,\n",
       "     426,\n",
       "     426,\n",
       "     370,\n",
       "     593,\n",
       "     481,\n",
       "     759,\n",
       "     481,\n",
       "     500,\n",
       "     500,\n",
       "     352,\n",
       "     556,\n",
       "     352,\n",
       "     556,\n",
       "     0,\n",
       "     0,\n",
       "     0,\n",
       "     0,\n",
       "     0,\n",
       "     0,\n",
       "     0,\n",
       "     0,\n",
       "     0,\n",
       "     0,\n",
       "     0,\n",
       "     0,\n",
       "     0,\n",
       "     0,\n",
       "     0,\n",
       "     0,\n",
       "     0,\n",
       "     0,\n",
       "     0,\n",
       "     0,\n",
       "     0,\n",
       "     0,\n",
       "     0,\n",
       "     500],\n",
       "    '/Encoding': '/WinAnsiEncoding',\n",
       "    '/BaseFont': '/JansonText-Bold',\n",
       "    '/FontDescriptor': {'/Type': '/FontDescriptor',\n",
       "     '/Ascent': 759,\n",
       "     '/CapHeight': 713,\n",
       "     '/Descent': -261,\n",
       "     '/Flags': 34,\n",
       "     '/FontBBox': [-156, -272, 1136, 993],\n",
       "     '/FontName': '/JansonText-Bold',\n",
       "     '/ItalicAngle': 0,\n",
       "     '/StemV': 127,\n",
       "     '/XHeight': 443,\n",
       "     '/StemH': 127}}},\n",
       "  '/ExtGState': {'/GS1': {'/Type': '/ExtGState',\n",
       "    '/SA': <PyPDF2.generic.BooleanObject at 0x1650540d278>,\n",
       "    '/SM': 0.02,\n",
       "    '/TR': '/Identity'},\n",
       "   '/GS2': {'/Type': '/ExtGState',\n",
       "    '/SA': <PyPDF2.generic.BooleanObject at 0x16505a9def0>,\n",
       "    '/SM': 0.02,\n",
       "    '/TR': '/Identity'}},\n",
       "  '/ColorSpace': {'/Cs5': ['/CalRGB',\n",
       "    {'/WhitePoint': [0.9505, 1, 1.089],\n",
       "     '/Gamma': [2.22221, 2.22221, 2.22221],\n",
       "     '/Matrix': [0.4124,\n",
       "      0.2126,\n",
       "      0.0193,\n",
       "      0.3576,\n",
       "      0.71519,\n",
       "      0.1192,\n",
       "      0.1805,\n",
       "      0.0722,\n",
       "      0.9505]}]}},\n",
       " '/Contents': {'/Filter': '/FlateDecode'},\n",
       " '/BleedBox': [-18, -18, 450, 666],\n",
       " '/TrimBox': [0, 0, 432, 648],\n",
       " '/MediaBox': [0, 0, 432, 648],\n",
       " '/CropBox': [0, 0, 432, 648],\n",
       " '/Rotate': 0}"
      ]
     },
     "execution_count": 11,
     "metadata": {},
     "output_type": "execute_result"
    }
   ],
   "source": [
    "page8 = pdf_reader.getPage(8)\n",
    "#page8  ### this is for getting the binary tranformation for the pdf page"
   ]
  },
  {
   "cell_type": "code",
   "execution_count": 12,
   "id": "cooked-passion",
   "metadata": {},
   "outputs": [
    {
     "data": {
      "text/plain": [
       "'x  I\\nNTRODUCTION\\nIt was during th\\ne British Raj that the Gita ﬁ\\n rst achi\\neved \\nworldwide fame. Many educated \\nIndians were st\\nruggling to \\ndefend Hinduism agai\\nnst th\\ne onslaught of western culture, and \\ngradually th\\ne Gita was considered to embody the essential spirit \\nand deepes\\nt truths of Hinduism. The Hindu reformer Ram \\nMohun Roy referred\\n to the Gita as “the es\\nsence of all shastras,” \\nor the essenc\\ne of all scriptures. By 1912, C. F. Andrews could \\nclaim that the Gita had become a common and well-read \\nscripture for the whole of educated India. It also appealed to \\nanother, and very different grou\\np of people, the Theosophists. \\nIt was th\\ne Theosophists who introduced the Gita to that most \\nfamous of al\\nl modern Indians: Mohandas K. Gandhi.\\nSince Gandhi wa\\ns introduced to the Gita by the Theoso-\\nphists, he lear\\nned to read it in\\n an allegorical way. The mighty \\nbattle was really a struggle for truth—which he saw as another \\nword for God—to\\n be sought through love, and love ruled out \\nviolence. Ahimsa\\n, or nonviolence, became the key to Gandhi’s \\nunderstanding of \\nthe Gita\\n, which he called his “spiritual dic-\\ntionary.” He \\nwas particularly fascinated by two words: apari-\\ngraha (nonpossession), which suggested the renunciation of \\nmoney an\\nd property to avoid cramping the life of the spirit; \\nand samabhav\\na (equability), which asked him to transcend \\npain or pleasure, victory or defeat, and to work without hope \\nof success or fear of failure. Th\\ne Gita became an inspiration to \\nGandhi and millions of his follow\\ners, a manual of\\n devotion and \\naction in\\n the modern world.\\nThe Gita also found \\na rapt audience in the West, and a fas-\\ncinating global cross-fertilizat\\nion followed\\n. It appealed both \\nto the German Romantics, notably Schlegel, Humboldt, and \\nGoethe, an\\nd to the American Transcendentalists, a group in \\nNew Englan\\nd who thought that insights which transcended \\n'"
      ]
     },
     "execution_count": 12,
     "metadata": {},
     "output_type": "execute_result"
    }
   ],
   "source": [
    "# page1 ----> provide the binary output \n",
    "\n",
    "page8.extractText()\n",
    "\n",
    "#page2 = pdf_reader.getPage(1)\n",
    "\n",
    "#page2.extractText()\n"
   ]
  },
  {
   "cell_type": "code",
   "execution_count": 13,
   "id": "exempt-amount",
   "metadata": {},
   "outputs": [],
   "source": [
    "## append write or merge pdfs\n",
    "\n",
    "pdf_writer  = pdf.PdfFileWriter()\n",
    "\n",
    "pdf_writer.addPage(page8)\n",
    "#pdf_writer.addPage(page2)\n",
    "output  = open('geeta_eng_Pages8.pdf','wb')\n",
    "pdf_writer.write(output)\n",
    "output.close()\n"
   ]
  },
  {
   "cell_type": "raw",
   "id": "beneficial-watershed",
   "metadata": {},
   "source": [
    "#### if you want to add page 2 before page 1\n",
    "\n",
    "pdf_writer.addPage(page2)\n",
    "pdf_writer.addPage(page1)\n",
    "output  = open('Pages.pdf','wb')\n",
    "pdf_writer.write(output)\n",
    "output.close()\n"
   ]
  },
  {
   "cell_type": "markdown",
   "id": "loving-farming",
   "metadata": {},
   "source": [
    "### extracting text from pdf page"
   ]
  },
  {
   "cell_type": "code",
   "execution_count": 14,
   "id": "compressed-lotus",
   "metadata": {},
   "outputs": [],
   "source": [
    "page8_ = page8.extractText()"
   ]
  },
  {
   "cell_type": "code",
   "execution_count": 19,
   "id": "equipped-triumph",
   "metadata": {},
   "outputs": [
    {
     "data": {
      "text/plain": [
       "'x  I\\nNTRODUCTION\\nIt was during th\\ne British Raj that the Gita ﬁ\\n rst achi\\neved \\nworldwide fame. Many educated \\nIndians were st\\nruggling to \\ndefend Hinduism agai\\nnst th\\ne onslaught of western culture, and \\ngradually th\\ne Gita was considered to embody the essential spirit \\nand deepes\\nt truths of Hinduism. The Hindu reformer Ram \\nMohun Roy referred\\n to the Gita as “the es\\nsence of all shastras,” \\nor the essenc\\ne of all scriptures. By 1912, C. F. Andrews could \\nclaim that the Gita had become a common and well-read \\nscripture for the whole of educated India. It also appealed to \\nanother, and very different grou\\np of people, the Theosophists. \\nIt was th\\ne Theosophists who introduced the Gita to that most \\nfamous of al\\nl modern Indians: Mohandas K. Gandhi.\\nSince Gandhi wa\\ns introduced to the Gita by the Theoso-\\nphists, he lear\\nned to read it in\\n an allegorical way. The mighty \\nbattle was really a struggle for truth—which he saw as another \\nword for God—to\\n be sought through love, and love ruled out \\nviolence. Ahimsa\\n, or nonviolence, became the key to Gandhi’s \\nunderstanding of \\nthe Gita\\n, which he called his “spiritual dic-\\ntionary.” He \\nwas particularly fascinated by two words: apari-\\ngraha (nonpossession), which suggested the renunciation of \\nmoney an\\nd property to avoid cramping the life of the spirit; \\nand samabhav\\na (equability), which asked him to transcend \\npain or pleasure, victory or defeat, and to work without hope \\nof success or fear of failure. Th\\ne Gita became an inspiration to \\nGandhi and millions of his follow\\ners, a manual of\\n devotion and \\naction in\\n the modern world.\\nThe Gita also found \\na rapt audience in the West, and a fas-\\ncinating global cross-fertilizat\\nion followed\\n. It appealed both \\nto the German Romantics, notably Schlegel, Humboldt, and \\nGoethe, an\\nd to the American Transcendentalists, a group in \\nNew Englan\\nd who thought that insights which transcended \\n'"
      ]
     },
     "execution_count": 19,
     "metadata": {},
     "output_type": "execute_result"
    }
   ],
   "source": [
    "page8_"
   ]
  },
  {
   "cell_type": "code",
   "execution_count": 22,
   "id": "interim-observer",
   "metadata": {},
   "outputs": [],
   "source": [
    "page8_ = page8_.replace('\\n','')"
   ]
  },
  {
   "cell_type": "code",
   "execution_count": 27,
   "id": "virgin-reminder",
   "metadata": {},
   "outputs": [],
   "source": [
    "# page8_.split(sep='.')"
   ]
  },
  {
   "cell_type": "raw",
   "id": "adequate-valley",
   "metadata": {},
   "source": [
    "! pip install spacy"
   ]
  },
  {
   "cell_type": "markdown",
   "id": "acting-canada",
   "metadata": {},
   "source": [
    "### import the libraries"
   ]
  },
  {
   "cell_type": "code",
   "execution_count": 31,
   "id": "tired-place",
   "metadata": {},
   "outputs": [],
   "source": [
    "import spacy"
   ]
  },
  {
   "cell_type": "code",
   "execution_count": 33,
   "id": "unlike-zealand",
   "metadata": {},
   "outputs": [],
   "source": [
    "nlp = spacy.load(\"en_core_web_sm\")"
   ]
  },
  {
   "cell_type": "markdown",
   "id": "viral-disorder",
   "metadata": {},
   "source": [
    "##### page 10"
   ]
  },
  {
   "cell_type": "code",
   "execution_count": 55,
   "id": "varying-smooth",
   "metadata": {},
   "outputs": [],
   "source": [
    "page9_raw = pdf_reader.getPage(9)\n",
    "page9_raw_ = page9_raw.extractText()\n",
    "\n"
   ]
  },
  {
   "cell_type": "code",
   "execution_count": 56,
   "id": "increased-jordan",
   "metadata": {},
   "outputs": [
    {
     "data": {
      "text/plain": [
       "'INTRODUCTION  xilogic and experience would reveal the deepest truths. The Gita was ﬁ rst translated into English in India in 1785 by Charles Wilkins, a merchant with the East India Company, and his translation made a deep impression on the Transcendentalist’s leader, Ralph Waldo Emerson. Emerson’s poem, “Brahma,” elegantly captures some of the essence of the Gita:If the red slayer think he slays, Or if the slain think he is slain,They know not well the subtle ways I keep, and pass, and turn again.Far or forgot to me is near; Shadow and sunlight are the same;The vanished gods to me appear; and one to me are shame and fame.They reckon ill who leave me out; When me they ﬂ y, I am the wings;I am the doubter and the doubt, And I the hymn the Brahmin sings.The strong gods pine for my abode, And pine in vain the sacred Seven;But thou, meek lover of the good! Find me, and turn thy back on heaven.The poem is based on a verse found in both the Gita and the Katha Upanishad. (A century later, another great poet,T. S. Eliot, also had a lifelong interest in Indian philosophy and incorporated it into his poetry as well.) Emerson made '"
      ]
     },
     "execution_count": 56,
     "metadata": {},
     "output_type": "execute_result"
    }
   ],
   "source": [
    "page9_ = page9_raw_.replace('\\n','')\n",
    "page9_"
   ]
  },
  {
   "cell_type": "code",
   "execution_count": 57,
   "id": "better-fleet",
   "metadata": {},
   "outputs": [],
   "source": [
    "page9_doc = nlp(page9_)\n"
   ]
  },
  {
   "cell_type": "code",
   "execution_count": 58,
   "id": "understanding-recipe",
   "metadata": {},
   "outputs": [],
   "source": [
    "page9=[sent.text for sent in page9_doc.sents]"
   ]
  },
  {
   "cell_type": "code",
   "execution_count": 61,
   "id": "boxed-welding",
   "metadata": {},
   "outputs": [
    {
     "name": "stdout",
     "output_type": "stream",
     "text": [
      "['INTRODUCTION  xilogic and experience would reveal the deepest truths.', 'The Gita was ﬁ rst translated into English in India in 1785 by Charles Wilkins, a merchant with the East India Company, and his translation made a deep impression on the Transcendentalist’s leader, Ralph Waldo Emerson.', 'Emerson’s poem, “Brahma,” elegantly captures some of the essence of the Gita:If the red slayer think he slays, Or if the slain think he is slain,They know not well the subtle ways I keep, and pass, and turn again.', 'Far or forgot to me is near; Shadow and sunlight are the same;The vanished gods to me appear; and one to me are shame and fame.', 'They reckon ill who leave me out; When me they ﬂ y, I am the wings;I am the doubter and the doubt, And I the hymn the Brahmin sings.', 'The strong gods pine for my abode, And pine in vain the sacred Seven;But thou, meek lover of the good!', 'Find me, and turn thy back on heaven.', 'The poem is based on a verse found in both the Gita and the Katha Upanishad.', '(A century later, another great poet,T. S. Eliot, also had a lifelong interest in Indian philosophy and incorporated it into his poetry as well.)', 'Emerson made']\n"
     ]
    }
   ],
   "source": [
    "print(page9)"
   ]
  },
  {
   "cell_type": "code",
   "execution_count": 67,
   "id": "legislative-paper",
   "metadata": {},
   "outputs": [
    {
     "name": "stdout",
     "output_type": "stream",
     "text": [
      "INTRODUCTION  xilogic and experience would reveal the deepest truths. \n",
      "\n",
      "The Gita was ﬁ rst translated into English in India in 1785 by Charles Wilkins, a merchant with the East India Company, and his translation made a deep impression on the Transcendentalist’s leader, Ralph Waldo Emerson. \n",
      "\n",
      "Emerson’s poem, “Brahma,” elegantly captures some of the essence of the Gita:If the red slayer think he slays, Or if the slain think he is slain,They know not well the subtle ways I keep, and pass, and turn again. \n",
      "\n",
      "Far or forgot to me is near; Shadow and sunlight are the same;The vanished gods to me appear; and one to me are shame and fame. \n",
      "\n",
      "They reckon ill who leave me out; When me they ﬂ y, I am the wings;I am the doubter and the doubt, And I the hymn the Brahmin sings. \n",
      "\n",
      "The strong gods pine for my abode, And pine in vain the sacred Seven;But thou, meek lover of the good! \n",
      "\n",
      "Find me, and turn thy back on heaven. \n",
      "\n",
      "The poem is based on a verse found in both the Gita and the Katha Upanishad. \n",
      "\n",
      "(A century later, another great poet,T. S. Eliot, also had a lifelong interest in Indian philosophy and incorporated it into his poetry as well.) \n",
      "\n",
      "Emerson made \n",
      "\n"
     ]
    }
   ],
   "source": [
    "for i in page9:\n",
    "    print(i,'\\n')"
   ]
  },
  {
   "cell_type": "code",
   "execution_count": 64,
   "id": "illegal-wilderness",
   "metadata": {},
   "outputs": [
    {
     "data": {
      "text/plain": [
       "10"
      ]
     },
     "execution_count": 64,
     "metadata": {},
     "output_type": "execute_result"
    }
   ],
   "source": [
    "len(page9)"
   ]
  },
  {
   "cell_type": "code",
   "execution_count": 71,
   "id": "incorrect-mainstream",
   "metadata": {},
   "outputs": [],
   "source": [
    "sample = page9[2:7]"
   ]
  },
  {
   "cell_type": "code",
   "execution_count": 74,
   "id": "instrumental-mainstream",
   "metadata": {},
   "outputs": [],
   "source": [
    "sample[0]= sample[0].split(':')[1]"
   ]
  },
  {
   "cell_type": "code",
   "execution_count": 75,
   "id": "operating-indicator",
   "metadata": {},
   "outputs": [
    {
     "data": {
      "text/plain": [
       "'If the red slayer think he slays, Or if the slain think he is slain,They know not well the subtle ways I keep, and pass, and turn again.'"
      ]
     },
     "execution_count": 75,
     "metadata": {},
     "output_type": "execute_result"
    }
   ],
   "source": [
    "sample[0]"
   ]
  },
  {
   "cell_type": "code",
   "execution_count": 76,
   "id": "beautiful-unemployment",
   "metadata": {},
   "outputs": [
    {
     "data": {
      "text/plain": [
       "['If the red slayer think he slays',\n",
       " ' Or if the slain think he is slain',\n",
       " 'They know not well the subtle ways I keep',\n",
       " ' and pass',\n",
       " ' and turn again.']"
      ]
     },
     "execution_count": 76,
     "metadata": {},
     "output_type": "execute_result"
    }
   ],
   "source": [
    "sample0 = sample[0].split(',')\n",
    "sample0"
   ]
  },
  {
   "cell_type": "code",
   "execution_count": 94,
   "id": "streaming-federal",
   "metadata": {},
   "outputs": [],
   "source": [
    "s1 = sample0[2:4]\n",
    "s2 = sample0[4]\n"
   ]
  },
  {
   "cell_type": "code",
   "execution_count": 100,
   "id": "frequent-camping",
   "metadata": {},
   "outputs": [
    {
     "data": {
      "text/plain": [
       "' and turn again.'"
      ]
     },
     "execution_count": 100,
     "metadata": {},
     "output_type": "execute_result"
    }
   ],
   "source": [
    "s2"
   ]
  },
  {
   "cell_type": "code",
   "execution_count": 117,
   "id": "legal-digit",
   "metadata": {},
   "outputs": [],
   "source": [
    "sample1 = str(s1[0]) + str(s1[1]) + str(s2[0:])"
   ]
  },
  {
   "cell_type": "code",
   "execution_count": 118,
   "id": "brutal-transformation",
   "metadata": {},
   "outputs": [
    {
     "data": {
      "text/plain": [
       "'They know not well the subtle ways I keep and pass and turn again.'"
      ]
     },
     "execution_count": 118,
     "metadata": {},
     "output_type": "execute_result"
    }
   ],
   "source": [
    "sample1"
   ]
  },
  {
   "cell_type": "code",
   "execution_count": 123,
   "id": "photographic-video",
   "metadata": {},
   "outputs": [],
   "source": [
    "sample2 = str(sample0[0]) + str(sample0[1])"
   ]
  },
  {
   "cell_type": "code",
   "execution_count": 124,
   "id": "automated-chain",
   "metadata": {},
   "outputs": [
    {
     "data": {
      "text/plain": [
       "'If the red slayer think he slays Or if the slain think he is slain'"
      ]
     },
     "execution_count": 124,
     "metadata": {},
     "output_type": "execute_result"
    }
   ],
   "source": [
    "sample2"
   ]
  },
  {
   "cell_type": "code",
   "execution_count": 133,
   "id": "continental-producer",
   "metadata": {},
   "outputs": [],
   "source": [
    "translate=[sample2,sample1]"
   ]
  },
  {
   "cell_type": "code",
   "execution_count": 134,
   "id": "adolescent-playlist",
   "metadata": {},
   "outputs": [
    {
     "data": {
      "text/plain": [
       "['If the red slayer think he slays Or if the slain think he is slain',\n",
       " 'They know not well the subtle ways I keep and pass and turn again.']"
      ]
     },
     "execution_count": 134,
     "metadata": {},
     "output_type": "execute_result"
    }
   ],
   "source": [
    "translate"
   ]
  },
  {
   "cell_type": "markdown",
   "id": "comparative-norfolk",
   "metadata": {},
   "source": [
    "### translation"
   ]
  },
  {
   "cell_type": "code",
   "execution_count": 128,
   "id": "fewer-highway",
   "metadata": {},
   "outputs": [],
   "source": [
    "from translate import Translator\n"
   ]
  },
  {
   "cell_type": "code",
   "execution_count": 135,
   "id": "binary-canyon",
   "metadata": {},
   "outputs": [],
   "source": [
    "translator= Translator(to_lang=\"hindi\")\n"
   ]
  },
  {
   "cell_type": "code",
   "execution_count": 136,
   "id": "inclusive-winning",
   "metadata": {},
   "outputs": [
    {
     "name": "stdout",
     "output_type": "stream",
     "text": [
      "['अगर लाल कातिल सोचता है कि वह मारता है या यदि मारे गए को लगता है कि वह मारा गया है', 'वे उन सूक्ष्म तरीकों को अच्छी तरह से नहीं जानते हैं जिन्हें मैं रखता और गुजरता और फिर से मुड़ता।']\n"
     ]
    }
   ],
   "source": [
    "translation=[]\n",
    "for i in range(len(translate)):\n",
    "    translation.append(translator.translate(translate[i]))\n",
    "\n",
    "print(translation)\n"
   ]
  },
  {
   "cell_type": "raw",
   "id": "cooperative-mailman",
   "metadata": {},
   "source": [
    "Whatever happened, happened for the good. Whatever is happening, is happening for the good. Whatever will happen, will also happen for the good."
   ]
  },
  {
   "cell_type": "markdown",
   "id": "geographic-symbol",
   "metadata": {},
   "source": [
    "### using translation on other text"
   ]
  },
  {
   "cell_type": "code",
   "execution_count": 143,
   "id": "center-profile",
   "metadata": {},
   "outputs": [],
   "source": [
    "geta1 = nlp('Whatever happened, happened for the good. Whatever is happening, is happening for the good. Whatever will happen, will also happen for the good.')\n",
    "geta12 = [sent.text for sent in geta1.sents]"
   ]
  },
  {
   "cell_type": "code",
   "execution_count": 144,
   "id": "historic-singles",
   "metadata": {},
   "outputs": [
    {
     "name": "stdout",
     "output_type": "stream",
     "text": [
      "['जो हुआ, अच्छे के लिए हुआ।', 'जो हो रहा है, अच्छे के लिए हो रहा है।', 'जो होगा, अच्छे के लिए भी होगा।']\n"
     ]
    }
   ],
   "source": [
    "translation1=[]\n",
    "for i in range(len(geta12)):\n",
    "    translation1.append(translator.translate(geta12[i]))\n",
    "\n",
    "print(translation1)"
   ]
  },
  {
   "cell_type": "code",
   "execution_count": null,
   "id": "active-filing",
   "metadata": {},
   "outputs": [],
   "source": []
  }
 ],
 "metadata": {
  "kernelspec": {
   "display_name": "Python 3",
   "language": "python",
   "name": "python3"
  },
  "language_info": {
   "codemirror_mode": {
    "name": "ipython",
    "version": 3
   },
   "file_extension": ".py",
   "mimetype": "text/x-python",
   "name": "python",
   "nbconvert_exporter": "python",
   "pygments_lexer": "ipython3",
   "version": "3.7.1"
  }
 },
 "nbformat": 4,
 "nbformat_minor": 5
}
